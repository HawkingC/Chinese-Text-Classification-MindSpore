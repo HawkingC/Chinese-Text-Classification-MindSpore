{
 "cells": [
  {
   "cell_type": "code",
   "execution_count": 2,
   "metadata": {},
   "outputs": [],
   "source": [
    "#coding: UTF-8\n",
    "import mindspore\n",
    "import mindspore.nn as nn\n",
    "import mindspore.ops as ops\n",
    "import numpy as np\n",
    "from mindspore import Parameter, Tensor"
   ]
  },
  {
   "cell_type": "code",
   "execution_count": 3,
   "metadata": {},
   "outputs": [],
   "source": [
    "class Config(object):\n",
    "\n",
    "    \"\"\"配置参数\"\"\"\n",
    "    def __init__(self, dataset, embedding):\n",
    "        self.model_name = 'TextRNN_Att'\n",
    "        self.train_path = dataset + '/data/train.txt'                                # 训练集\n",
    "        self.dev_path = dataset + '/data/dev.txt'                                    # 验证集\n",
    "        self.test_path = dataset + '/data/test.txt'                                  # 测试集\n",
    "        self.class_list = [x.strip() for x in open(\n",
    "            dataset + '/data/class.txt', encoding='utf-8').readlines()]              # 类别名单\n",
    "        self.vocab_path = dataset + '/data/vocab.pkl'                                # 词表\n",
    "        self.save_path = dataset + '/saved_dict/' + self.model_name + '.ckpt'        # 模型训练结果\n",
    "        self.log_path = dataset + '/log/' + self.model_name\n",
    "        self.embedding_pretrained = mindspore.Tensor(\n",
    "            np.load(dataset + '/data/' + embedding)[\"embeddings\"].astype('float32'))\\\n",
    "            if embedding != 'random' else None                                       # 预训练词向量\n",
    "\n",
    "        self.dropout = 0.5                                              # 随机失活\n",
    "        self.require_improvement = 1000                                 # 若超过1000batch效果还没提升，则提前结束训练\n",
    "        self.num_classes = len(self.class_list)                         # 类别数\n",
    "        self.n_vocab = 0                                                # 词表大小，在运行时赋值\n",
    "        self.num_epochs = 10                                            # epoch数\n",
    "        self.batch_size = 128                                           # mini-batch大小\n",
    "        self.pad_size = 32                                              # 每句话处理成的长度(短填长切)\n",
    "        self.learning_rate = 1e-3                                       # 学习率\n",
    "        self.embed = self.embedding_pretrained.size(1)\\\n",
    "            if self.embedding_pretrained is not None else 300           # 字向量维度, 若使用了预训练词向量，则维度统一\n",
    "        self.hidden_size = 128                                          # lstm隐藏层\n",
    "        self.num_layers = 2                                             # lstm层数\n",
    "        self.hidden_size2 = 64"
   ]
  },
  {
   "cell_type": "code",
   "execution_count": 4,
   "metadata": {},
   "outputs": [],
   "source": [
    "'''Attention-Based Bidirectional Long Short-Term Memory Networks for Relation Classification'''\n",
    "\n",
    "\n",
    "class Model(nn.Cell):\n",
    "    def __init__(self, config):\n",
    "        super(Model, self).__init__()\n",
    "        if config.embedding_pretrained is not None:\n",
    "            self.embedding = nn.Embedding.from_pretrained(config.embedding_pretrained, freeze=False)\n",
    "        else:\n",
    "            self.embedding = nn.Embedding(config.n_vocab, config.embed, padding_idx=config.n_vocab - 1)\n",
    "        self.lstm = nn.LSTM(config.embed, config.hidden_size, config.num_layers,\n",
    "                            bidirectional=True, batch_first=True, dropout=config.dropout)\n",
    "        self.tanh1 = nn.Tanh()\n",
    "        # self.u = nn.Parameter(torch.Tensor(config.hidden_size * 2, config.hidden_size * 2))\n",
    "        self.w = Parameter(ops.zeros(config.hidden_size * 2))\n",
    "        self.tanh2 = nn.Tanh()\n",
    "        self.fc1 = nn.Dense(config.hidden_size * 2, config.hidden_size2)\n",
    "        self.fc = nn.Dense(config.hidden_size2, config.num_classes)\n",
    "\n",
    "    def forward(self, x):\n",
    "        x, _ = x\n",
    "        emb = self.embedding(x)  # [batch_size, seq_len, embeding]=[128, 32, 300]\n",
    "        H, _ = self.lstm(emb)  # [batch_size, seq_len, hidden_size * num_direction]=[128, 32, 256]\n",
    "\n",
    "        M = self.tanh1(H)  # [128, 32, 256]\n",
    "        # M = torch.tanh(torch.matmul(H, self.u))\n",
    "        alpha = ops.softmax(ops.matmul(M, self.w), dim=1).unsqueeze(-1)  # [128, 32, 1]\n",
    "        out = H * alpha  # [128, 32, 256]\n",
    "        out = ops.sum(out, 1)  # [128, 256]\n",
    "        out = ops.relu(out)\n",
    "        out = self.fc1(out)\n",
    "        out = self.fc(out)  # [128, 64]\n",
    "        return out"
   ]
  }
 ],
 "metadata": {
  "kernelspec": {
   "display_name": "MindSpore",
   "language": "python",
   "name": "mindspore"
  },
  "language_info": {
   "codemirror_mode": {
    "name": "ipython",
    "version": 3
   },
   "file_extension": ".py",
   "mimetype": "text/x-python",
   "name": "python",
   "nbconvert_exporter": "python",
   "pygments_lexer": "ipython3",
   "version": "3.7.5"
  },
  "orig_nbformat": 4
 },
 "nbformat": 4,
 "nbformat_minor": 2
}
